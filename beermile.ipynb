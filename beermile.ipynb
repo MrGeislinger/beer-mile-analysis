{
 "cells": [
  {
   "cell_type": "code",
   "execution_count": 11,
   "metadata": {},
   "outputs": [],
   "source": [
    "import sys\n",
    "import requests\n",
    "from bs4 import BeautifulSoup as bs\n",
    "from urllib.request import urlopen"
   ]
  },
  {
   "cell_type": "code",
   "execution_count": 7,
   "metadata": {},
   "outputs": [],
   "source": [
    "url_base = 'https://www.beermile.com/display/'\n",
    "max_event_id = 151381"
   ]
  },
  {
   "cell_type": "code",
   "execution_count": 16,
   "metadata": {},
   "outputs": [
    {
     "name": "stdout",
     "output_type": "stream",
     "text": [
      "Is  event: 1\n",
      "Is  event: 2\n",
      "Is  event: 3\n",
      "Is  event: 4\n",
      "Is  event: 5\n",
      "Is  event: 6\n",
      "Is  event: 7\n",
      "Is  event: 8\n",
      "Is  event: 9\n",
      "Is  event: 10\n",
      "Is  event: 11\n",
      "CPU times: user 678 ms, sys: 26 ms, total: 704 ms\n",
      "Wall time: 18.5 s\n"
     ]
    }
   ],
   "source": [
    "%%time\n",
    "\n",
    "# Find which events are actually races\n",
    "is_event = []\n",
    "not_event = []\n",
    "\n",
    "# Look for all events by numerical ID\n",
    "for i in range(1, max_event_id):\n",
    "    # Website uses sequential \n",
    "    event = f'event_{i}'\n",
    "    url = f'{url_base}{event}'\n",
    "    result = requests.get(url)\n",
    "    page = urlopen(result.url).read()\n",
    "    a = bs(page, 'html.parser')\n",
    "    \n",
    "    \n",
    "    if (a.title.string == 'Race Not Available'):\n",
    "        not_event.append(i)\n",
    "#         print(f'\\rNot event{i}')\n",
    "    else:\n",
    "        is_event.append(i)\n",
    "        \n",
    "    print('\\rIs  event: {}'.format(i))\n",
    "    sys.stdout.flush()\n",
    "    \n",
    "    if i> 10:\n",
    "        break\n"
   ]
  },
  {
   "cell_type": "code",
   "execution_count": 9,
   "metadata": {},
   "outputs": [],
   "source": [
    "# Write the results to a file\n",
    "with open('events.txt', 'w') as f:\n",
    "    for item in is_event:\n",
    "        f.write(f'{item}\\n')\n",
    "\n",
    "with open('not_events.txt', 'w') as g:\n",
    "    for item in not_event:\n",
    "        g.write(f'{item}\\n')"
   ]
  },
  {
   "cell_type": "code",
   "execution_count": null,
   "metadata": {},
   "outputs": [],
   "source": []
  }
 ],
 "metadata": {
  "kernelspec": {
   "display_name": "Python 3",
   "language": "python",
   "name": "python3"
  },
  "language_info": {
   "codemirror_mode": {
    "name": "ipython",
    "version": 3
   },
   "file_extension": ".py",
   "mimetype": "text/x-python",
   "name": "python",
   "nbconvert_exporter": "python",
   "pygments_lexer": "ipython3",
   "version": "3.6.5"
  }
 },
 "nbformat": 4,
 "nbformat_minor": 2
}
