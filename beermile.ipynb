{
 "cells": [
  {
   "cell_type": "code",
   "execution_count": null,
   "metadata": {},
   "outputs": [],
   "source": [
    "import sys\n",
    "import requests\n",
    "from bs4 import BeautifulSoup as bs\n",
    "from urllib.request import urlopen"
   ]
  },
  {
   "cell_type": "code",
   "execution_count": null,
   "metadata": {},
   "outputs": [],
   "source": [
    "url_base = 'https://www.beermile.com/display/'\n",
    "max_event_id = 151381"
   ]
  },
  {
   "cell_type": "code",
   "execution_count": null,
   "metadata": {},
   "outputs": [],
   "source": [
    "%%time\n",
    "\n",
    "# Find which events are actually races\n",
    "is_event = 0\n",
    "not_event = 0\n",
    "\n",
    "\n",
    "# Look for all events by numerical ID\n",
    "for i in range(1, max_event_id):\n",
    "    # Website uses sequential \n",
    "    event = f'event_{i}'\n",
    "    url = f'{url_base}{event}'\n",
    "    result = requests.get(url)\n",
    "    page = urlopen(result.url).read()\n",
    "    a = bs(page, 'html.parser')\n",
    "    \n",
    "    eventType = False\n",
    "    if (a.title.string == 'Race Not Available'):\n",
    "        not_event += 1\n",
    "        with open('not_events.txt', 'a') as g:\n",
    "            g.write(f'{i}\\n')\n",
    "    else:\n",
    "        is_event += 1\n",
    "        eventType = True\n",
    "        with open('events.txt', 'a') as f:\n",
    "            f.write(f'{i}\\n')\n",
    "            \n",
    "    print(f'\\r #{i:06d} Events: {is_event:<6} - Not Events: {not_event:<6}', end='') \n",
    "    sys.stdout.flush()\n"
   ]
  },
  {
   "cell_type": "code",
   "execution_count": null,
   "metadata": {},
   "outputs": [],
   "source": []
  }
 ],
 "metadata": {
  "kernelspec": {
   "display_name": "Python 3",
   "language": "python",
   "name": "python3"
  },
  "language_info": {
   "codemirror_mode": {
    "name": "ipython",
    "version": 3
   },
   "file_extension": ".py",
   "mimetype": "text/x-python",
   "name": "python",
   "nbconvert_exporter": "python",
   "pygments_lexer": "ipython3",
   "version": "3.6.5"
  }
 },
 "nbformat": 4,
 "nbformat_minor": 2
}
